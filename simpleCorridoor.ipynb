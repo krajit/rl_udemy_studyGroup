{
 "cells": [
  {
   "cell_type": "markdown",
   "id": "9167a530-dfa0-4df2-97f0-3073113a8520",
   "metadata": {
    "tags": []
   },
   "source": [
    "# Build a simple environment"
   ]
  },
  {
   "cell_type": "code",
   "execution_count": 1,
   "id": "cba6e6e4-826a-457a-a671-6b31b90151cd",
   "metadata": {},
   "outputs": [],
   "source": [
    "import gym\n",
    "\n",
    "import numpy as np\n",
    "\n",
    "from IPython.display import clear_output\n",
    "from IPython import display\n",
    "import random\n",
    "import matplotlib.pylab as plt\n",
    "import copy\n",
    "import time"
   ]
  },
  {
   "cell_type": "code",
   "execution_count": 11,
   "id": "fb5573b1-d96d-446c-a52a-119703605d24",
   "metadata": {},
   "outputs": [],
   "source": [
    "class SimpleCorridor(gym.Env):\n",
    "    def __init__(self, config):\n",
    "        self.length = config[\"corridor_length\"]\n",
    "        self.mode = config[\"mode\"] # \"fixed\" or \"random\"\n",
    "        \n",
    "        if self.mode == \"fixed\":\n",
    "            self.start_pos = 0\n",
    "            self.end_pos = self.length-1\n",
    "        elif self.mode == \"random\":\n",
    "            self.start_pos, self.end_pos = random.sample(range(self.length),2)\n",
    "        self.action_space = gym.spaces.Discrete(2)\n",
    "        self.observation_space = gym.spaces.Box(0.0, self.length, shape=(1,),dtype='int32')\n",
    "\n",
    "    def reset(self):\n",
    "        self.cur_pos = self.start_pos\n",
    "        return self.cur_pos\n",
    "\n",
    "    def step(self, action):\n",
    "        if action == 0 and self.cur_pos > 0: # walk left\n",
    "            self.cur_pos -= 1\n",
    "        if action == 1 and self.cur_pos < self.length-1:\n",
    "            self.cur_pos += 1\n",
    "        done = self.cur_pos == self.end_pos\n",
    "        reward = 1.0 if done else 0.0\n",
    "        return self.cur_pos , reward, done, {} \n",
    "    def render(self, mode=\"rgb_array\"):\n",
    "        s = ''\n",
    "        for i in range(self.length):\n",
    "            if i == self.cur_pos:\n",
    "                s = s+'A'\n",
    "            elif i == self.end_pos:\n",
    "                s= s + \"T\"\n",
    "            else:\n",
    "                s = s+'_'\n",
    "        print(s)"
   ]
  },
  {
   "cell_type": "code",
   "execution_count": 21,
   "id": "4932efc8-a30a-428c-9d52-67a663bce9e7",
   "metadata": {},
   "outputs": [
    {
     "name": "stdout",
     "output_type": "stream",
     "text": [
      "A__________________T\n"
     ]
    }
   ],
   "source": [
    "env = SimpleCorridor({\"corridor_length\": 20, \"mode\":\"fixed\"})\n",
    "env.reset()\n",
    "env.render()"
   ]
  },
  {
   "cell_type": "markdown",
   "id": "b53cede2-685a-4b73-9b5f-f094d1be5d29",
   "metadata": {},
   "source": [
    "## Pretraining random walk"
   ]
  },
  {
   "cell_type": "code",
   "execution_count": 22,
   "id": "f13337bb-777c-4c97-a40a-bc2a643d2827",
   "metadata": {},
   "outputs": [
    {
     "name": "stdout",
     "output_type": "stream",
     "text": [
      "__A________________T\n",
      "state=  2 ,reward =  0.0 ,done =  False\n"
     ]
    },
    {
     "ename": "KeyboardInterrupt",
     "evalue": "",
     "output_type": "error",
     "traceback": [
      "\u001b[1;31m---------------------------------------------------------------------------\u001b[0m",
      "\u001b[1;31mKeyboardInterrupt\u001b[0m                         Traceback (most recent call last)",
      "Cell \u001b[1;32mIn[22], line 9\u001b[0m\n\u001b[0;32m      7\u001b[0m env\u001b[38;5;241m.\u001b[39mrender()\n\u001b[0;32m      8\u001b[0m \u001b[38;5;28mprint\u001b[39m(\u001b[38;5;124m\"\u001b[39m\u001b[38;5;124mstate= \u001b[39m\u001b[38;5;124m\"\u001b[39m, obs, \u001b[38;5;124m\"\u001b[39m\u001b[38;5;124m,reward = \u001b[39m\u001b[38;5;124m\"\u001b[39m,  reward, \u001b[38;5;124m\"\u001b[39m\u001b[38;5;124m,done = \u001b[39m\u001b[38;5;124m\"\u001b[39m, done)\n\u001b[1;32m----> 9\u001b[0m \u001b[43mtime\u001b[49m\u001b[38;5;241;43m.\u001b[39;49m\u001b[43msleep\u001b[49m\u001b[43m(\u001b[49m\u001b[38;5;241;43m0.1\u001b[39;49m\u001b[43m)\u001b[49m\n",
      "\u001b[1;31mKeyboardInterrupt\u001b[0m: "
     ]
    }
   ],
   "source": [
    "obs = env.reset()\n",
    "done = False\n",
    "\n",
    "while not done:\n",
    "    display.clear_output(wait=True)\n",
    "    obs, reward, done, _ = env.step(env.action_space.sample())\n",
    "    env.render()\n",
    "    print(\"state= \", obs, \",reward = \",  reward, \",done = \", done)\n",
    "    time.sleep(0.1)"
   ]
  },
  {
   "cell_type": "markdown",
   "id": "f814a3b4-71c8-48bf-8c3b-ccc1c8aad3cd",
   "metadata": {},
   "source": [
    "# Value Iteration : Training"
   ]
  },
  {
   "cell_type": "code",
   "execution_count": 23,
   "id": "5cd94189-f57c-4607-8a8b-2e3339df856d",
   "metadata": {},
   "outputs": [],
   "source": [
    "theta = 1e-5\n",
    "l = 0.95 # lambda\n",
    "\n",
    "env.V = np.random.rand(env.length) # random initialization of all states\n",
    "env.V[env.end_pos] = 0\n",
    "\n",
    "delta = 1\n",
    "while delta > theta:\n",
    "    delta = 0\n",
    "#for _ in range(10):\n",
    "    for s in range(env.length): # swipe over all possible states\n",
    "        v = env.V[s]\n",
    "        Vreachable = []\n",
    "        for a in range(2): # range over two actions\n",
    "            env.cur_pos = s\n",
    "            sp, r, done, info = env.step(a)\n",
    "            Vreachable.append(r + l*env.V[sp])\n",
    "        env.V[s] = max(Vreachable)\n",
    "        delta = max(delta,abs(v - env.V[s]))\n",
    "#        print(delta)"
   ]
  },
  {
   "cell_type": "code",
   "execution_count": 24,
   "id": "b6ad3ebe-c593-4a98-b981-6197f655dd0b",
   "metadata": {},
   "outputs": [],
   "source": [
    "def policyGreedy(s):\n",
    "    li = max(s-1,0)\n",
    "    lr = min(s+1,env.length-1)\n",
    "    Vlr = [env.V[li], env.V[lr]]\n",
    "    return np.argmax(Vlr)\n",
    "    \n"
   ]
  },
  {
   "cell_type": "markdown",
   "id": "a8ff6838-7302-4a8b-841a-a88751286af4",
   "metadata": {},
   "source": [
    "## post training walk"
   ]
  },
  {
   "cell_type": "code",
   "execution_count": 25,
   "id": "4d14286e-17fc-4694-9a6d-b1d536e594a1",
   "metadata": {},
   "outputs": [
    {
     "name": "stdout",
     "output_type": "stream",
     "text": [
      "___________________A\n",
      "state=  19 ,reward =  1.0 ,done =  True\n"
     ]
    }
   ],
   "source": [
    "obs = env.reset()\n",
    "done = False\n",
    "\n",
    "while not done:\n",
    "    display.clear_output(wait=True)\n",
    "    obs, reward, done, _ = env.step(policyGreedy(obs))\n",
    "    env.render()\n",
    "    print(\"state= \", obs, \",reward = \",  reward, \",done = \", done)\n",
    "    time.sleep(0.2)"
   ]
  },
  {
   "cell_type": "code",
   "execution_count": 8,
   "id": "66c2039a-58d7-48aa-884e-424f72301d83",
   "metadata": {},
   "outputs": [
    {
     "data": {
      "text/plain": [
       "array([ 8.35382475,  8.79350852,  9.25633309,  9.74351644, 10.25634061,\n",
       "        9.74352358, 10.2563474 ,  9.74353003,  9.25635353,  8.79353586])"
      ]
     },
     "execution_count": 8,
     "metadata": {},
     "output_type": "execute_result"
    }
   ],
   "source": [
    "env.V"
   ]
  },
  {
   "cell_type": "code",
   "execution_count": 26,
   "id": "fe325344-3c95-4188-918f-7f586c23e12c",
   "metadata": {},
   "outputs": [
    {
     "data": {
      "text/plain": [
       "[<matplotlib.lines.Line2D at 0x1fc3189e1f0>]"
      ]
     },
     "execution_count": 26,
     "metadata": {},
     "output_type": "execute_result"
    },
    {
     "data": {
      "image/png": "[encoded data removed]",
      "text/plain": [
       "<Figure size 640x480 with 1 Axes>"
      ]
     },
     "metadata": {},
     "output_type": "display_data"
    }
   ],
   "source": [
    "plt.plot(env.V)"
   ]
  },
  {
   "cell_type": "markdown",
   "id": "fd4a3c48-fe25-4bb5-8366-35aa2afdca4b",
   "metadata": {},
   "source": [
    "# Policy iteration"
   ]
  },
  {
   "cell_type": "code",
   "execution_count": 38,
   "id": "1c5a5b53-45d9-41d7-abc9-0d925525b27e",
   "metadata": {},
   "outputs": [],
   "source": [
    "theta = 1e-5\n",
    "l = 0.95 # lambda\n",
    "\n",
    "# initialize V\n",
    "env.V = np.random.rand(env.length) # random initialization of all states\n",
    "env.V[env.end_pos] = 0\n",
    "\n",
    "# initialize pi\n",
    "env.pi = {s:env.action_space.sample() for s in range(env.length)}"
   ]
  },
  {
   "cell_type": "code",
   "execution_count": 42,
   "id": "e5060350-8eca-41e4-8c59-a4fc059e60fe",
   "metadata": {},
   "outputs": [],
   "source": [
    "policyStable=False\n",
    "\n",
    "while not policyStable:\n",
    "    \n",
    "    # policy evaluatioan\n",
    "    delta = 1\n",
    "    while delta > theta:\n",
    "        delta = 0\n",
    "        for s in range(env.length): # swipe over all possible states\n",
    "            v = env.V[s]\n",
    "            env.cur_pos = s\n",
    "            sp, r, done, info = env.step(a)\n",
    "            env.V[s] = (r+l*env.V[sp])\n",
    "            delta = max(delta,abs(v - env.V[s]))\n",
    "            \n",
    "            \n",
    "    #policy iteration\n",
    "    policyStable = True\n",
    "    for s in range(env.length):\n",
    "        a_old = env.pi[s]\n",
    "        x = []\n",
    "        for a in range(2):\n",
    "            env.cur_pos = s\n",
    "            sp,r,done,info = env.step(a)\n",
    "            x.append(r + l*env.V[sp])\n",
    "        env.pi[s] = np.argmax(x)\n",
    "        if a_old != env.pi[s]:\n",
    "            policyStable = False    "
   ]
  },
  {
   "cell_type": "markdown",
   "id": "fa6f5019-68bb-4a4b-944e-220b26503201",
   "metadata": {},
   "source": [
    "## Walk after policy iteration training"
   ]
  },
  {
   "cell_type": "code",
   "execution_count": 46,
   "id": "2c0cfb39-49b0-4ac0-9d0c-8dc5afa82f35",
   "metadata": {},
   "outputs": [
    {
     "name": "stdout",
     "output_type": "stream",
     "text": [
      "___________________A\n",
      "state=  19 ,reward =  1.0 ,done =  True\n"
     ]
    }
   ],
   "source": [
    "obs = env.reset()\n",
    "done = False\n",
    "\n",
    "while not done:\n",
    "    display.clear_output(wait=True)\n",
    "    obs, reward, done, _ = env.step(env.action_space.sample())\n",
    "#    obs, reward, done, _ = env.step(env.pi[obs])\n",
    "    env.render()\n",
    "    print(\"state= \", obs, \",reward = \",  reward, \",done = \", done)\n",
    "    time.sleep(0.2)"
   ]
  },
  {
   "cell_type": "code",
   "execution_count": null,
   "id": "7ec0bd91-689f-4fb0-9e19-921fb0779f03",
   "metadata": {},
   "outputs": [],
   "source": []
  }
 ],
 "metadata": {
  "kernelspec": {
   "display_name": "Python 3 (ipykernel)",
   "language": "python",
   "name": "python3"
  },
  "language_info": {
   "codemirror_mode": {
    "name": "ipython",
    "version": 3
   },
   "file_extension": ".py",
   "mimetype": "text/x-python",
   "name": "python",
   "nbconvert_exporter": "python",
   "pygments_lexer": "ipython3",
   "version": "3.8.16"
  }
 },
 "nbformat": 4,
 "nbformat_minor": 5
}
